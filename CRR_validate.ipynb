{
 "cells": [
  {
   "attachments": {},
   "cell_type": "markdown",
   "metadata": {},
   "source": [
    "### set libraly"
   ]
  },
  {
   "cell_type": "code",
   "execution_count": 48,
   "metadata": {},
   "outputs": [],
   "source": [
    "import pandas as pd\n",
    "import os\n",
    "import numpy as np\n",
    "import glob\n",
    "import codecs"
   ]
  },
  {
   "attachments": {},
   "cell_type": "markdown",
   "metadata": {},
   "source": [
    "### set path"
   ]
  },
  {
   "cell_type": "code",
   "execution_count": 2,
   "metadata": {},
   "outputs": [],
   "source": [
    "input = \"Input\\\\\"\n",
    "input_data = \"Input\\\\data\\\\\"\n",
    "input_mapping = \"Input\\\\mapping\\\\\"\n",
    "output = \"Output\\\\\"\n",
    "dataprepare = \"dataprepare\\\\\"\n",
    "#os.mkdir(input)\n",
    "#os.mkdir(output)\n",
    "#os.mkdir(input_data)\n",
    "#os.mkdir(input_mapping)\n",
    "#os.mkdir(dataprepare)"
   ]
  },
  {
   "attachments": {},
   "cell_type": "markdown",
   "metadata": {},
   "source": [
    "### prepare data"
   ]
  },
  {
   "cell_type": "code",
   "execution_count": 3,
   "metadata": {},
   "outputs": [],
   "source": [
    "class RawData:\n",
    "      def __init__(self, folder, folder2):\n",
    "    \n",
    "        self.folder = folder\n",
    "        self.file = glob.glob(folder+\"/*.csv\")[-1]\n",
    "        self.folder2 = folder2\n",
    "        self.file2 = glob.glob(folder+\"/*.xlsb\")[-1]\n",
    "\n",
    "    \n",
    "        print(f\"Start to read CSV file '{self.file[-26:]}' in folder '{self.folder}'\")\n",
    "        self.df = pd.read_csv(self.file,encoding='UTF-8' )\n",
    "        print(f\"Read CSV file '{self.file[-22:]}' done!\",\"\\n\")\n",
    "        \n",
    "      def remove_white_space(self):\n",
    "            print(\"Start remove_white_space function\")\n",
    "            for col in self.df.columns.tolist():\n",
    "              if self.df[col].dtypes == object:\n",
    "                self.df[col] = self.df[col].str.strip()\n",
    "              print(\"Remove_white_space done!\",\"\\n\")\n",
    "      def save_csv(self):\n",
    "              self.df.to_csv(input_data+\"test.csv\",encoding='TIS-620')\n",
    "              print(f\"save file {self.file[-22:]} done\" , \"\\n\")\n",
    "\n",
    "      def mapping_data(self):\n",
    "              self.df_mapping = pd.read_excel(self.file2,encoding='UTF-8' )\n",
    "              \n",
    "    #self.file[-22:]"
   ]
  },
  {
   "cell_type": "code",
   "execution_count": 5,
   "metadata": {},
   "outputs": [
    {
     "name": "stdout",
     "output_type": "stream",
     "text": [
      "Start to read CSV file 'Input\\data\\CRR2563.csv' in folder 'Input\\data\\'\n",
      "Read CSV file 'Input\\data\\CRR2563.csv' done! \n",
      "\n",
      "Start remove_white_space function\n",
      "Remove_white_space done! \n",
      "\n",
      "Remove_white_space done! \n",
      "\n",
      "Remove_white_space done! \n",
      "\n",
      "Remove_white_space done! \n",
      "\n",
      "Remove_white_space done! \n",
      "\n",
      "Remove_white_space done! \n",
      "\n"
     ]
    }
   ],
   "source": [
    "test = RawData(input_data)\n",
    "test.remove_white_space()"
   ]
  },
  {
   "cell_type": "code",
   "execution_count": 70,
   "metadata": {},
   "outputs": [],
   "source": [
    "mapping = pd.read_excel(input_mapping+'RPISIC01_20211231_ข้อมูลรายตัวสำหรับตรวจสอบ (22 ประเภทธุรกิจ).xlsb',engine='pyxlsb',usecols=['Customer Number','Account Number','USER2','Account Class','PF/NPF Flag'] )"
   ]
  },
  {
   "cell_type": "code",
   "execution_count": 71,
   "metadata": {},
   "outputs": [],
   "source": [
    "a = pd.read_csv(input_data+'CRR2563.csv',encoding='UTF-8')\n",
    "a['เลขที่ CIF'] = a['เลขที่ CIF'].str.strip()\n",
    "a.dropna(subset=['เลขที่ CIF'],inplace=True)\n",
    "a.rename(columns={\"เลขที่ CIF\": \"Customer Number\"},inplace=True)\n"
   ]
  },
  {
   "attachments": {},
   "cell_type": "markdown",
   "metadata": {},
   "source": [
    "### fitter not number"
   ]
  },
  {
   "cell_type": "code",
   "execution_count": 85,
   "metadata": {},
   "outputs": [
    {
     "data": {
      "text/html": [
       "<div>\n",
       "<style scoped>\n",
       "    .dataframe tbody tr th:only-of-type {\n",
       "        vertical-align: middle;\n",
       "    }\n",
       "\n",
       "    .dataframe tbody tr th {\n",
       "        vertical-align: top;\n",
       "    }\n",
       "\n",
       "    .dataframe thead th {\n",
       "        text-align: right;\n",
       "    }\n",
       "</style>\n",
       "<table border=\"1\" class=\"dataframe\">\n",
       "  <thead>\n",
       "    <tr style=\"text-align: right;\">\n",
       "      <th></th>\n",
       "      <th>บุคคล/นิติบุคคลที่ถูกประเมิน</th>\n",
       "      <th>Customer Number</th>\n",
       "      <th>วันที่ประเมิน</th>\n",
       "      <th>Grade</th>\n",
       "      <th>ประเภท</th>\n",
       "      <th>วัตถุประสงค์</th>\n",
       "    </tr>\n",
       "  </thead>\n",
       "  <tbody>\n",
       "    <tr>\n",
       "      <th>51</th>\n",
       "      <td>บริษัท กาญจนดิษฐ์น้ำมันปาล์ม</td>\n",
       "      <td>New</td>\n",
       "      <td>12/11/2563</td>\n",
       "      <td>DDD</td>\n",
       "      <td>M &amp; L Industries</td>\n",
       "      <td>พิจารณาสินเชื่อ</td>\n",
       "    </tr>\n",
       "    <tr>\n",
       "      <th>66</th>\n",
       "      <td>บริษัท ทีเอส พลาสแพค จำกัด (มหาชน)</td>\n",
       "      <td>-</td>\n",
       "      <td>21/5/2563</td>\n",
       "      <td>BBB</td>\n",
       "      <td>M &amp; L Industries</td>\n",
       "      <td>พิจารณาสินเชื่อ</td>\n",
       "    </tr>\n",
       "    <tr>\n",
       "      <th>152</th>\n",
       "      <td>หจก.เอ.อัลมาน</td>\n",
       "      <td>-</td>\n",
       "      <td>3/9/2563</td>\n",
       "      <td>B+</td>\n",
       "      <td>Property Investment</td>\n",
       "      <td>พิจารณาสินเชื่อ</td>\n",
       "    </tr>\n",
       "    <tr>\n",
       "      <th>232</th>\n",
       "      <td>บจก.เอสเอส แวลู</td>\n",
       "      <td>-</td>\n",
       "      <td>15/12/2563</td>\n",
       "      <td>C+</td>\n",
       "      <td>Property Development</td>\n",
       "      <td>พิจารณาสินเชื่อ</td>\n",
       "    </tr>\n",
       "    <tr>\n",
       "      <th>246</th>\n",
       "      <td>บริษัท ธนภูมิทรัพย์ จำกัด</td>\n",
       "      <td>ลูกค้ารายใหม่</td>\n",
       "      <td>16/6/2563</td>\n",
       "      <td>CCC</td>\n",
       "      <td>Property Development</td>\n",
       "      <td>พิจารณาสินเชื่อ</td>\n",
       "    </tr>\n",
       "    <tr>\n",
       "      <th>518</th>\n",
       "      <td>บริษัท ไอเดียดีพลัส จำกัด</td>\n",
       "      <td>-</td>\n",
       "      <td>5/2/2563</td>\n",
       "      <td>sBBB</td>\n",
       "      <td>S Commerce</td>\n",
       "      <td>พิจารณาสินเชื่อ</td>\n",
       "    </tr>\n",
       "    <tr>\n",
       "      <th>743</th>\n",
       "      <td>บจก. เอ็มเอส เคมีเทค</td>\n",
       "      <td>-</td>\n",
       "      <td>20/7/2563</td>\n",
       "      <td>sBBB</td>\n",
       "      <td>S Commerce</td>\n",
       "      <td>พิจารณาสินเชื่อ</td>\n",
       "    </tr>\n",
       "    <tr>\n",
       "      <th>937</th>\n",
       "      <td>บริษัท พงษ์ภาคภูมิ จำกัด</td>\n",
       "      <td>-</td>\n",
       "      <td>5/2/2563</td>\n",
       "      <td>sBB</td>\n",
       "      <td>S Commerce</td>\n",
       "      <td>พิจารณาสินเชื่อ</td>\n",
       "    </tr>\n",
       "    <tr>\n",
       "      <th>943</th>\n",
       "      <td>บริษัท ฮีโน่ มหาสารคาม จำกัด</td>\n",
       "      <td>-</td>\n",
       "      <td>5/2/2563</td>\n",
       "      <td>sCCC</td>\n",
       "      <td>S Commerce</td>\n",
       "      <td>พิจารณาสินเชื่อ</td>\n",
       "    </tr>\n",
       "    <tr>\n",
       "      <th>1124</th>\n",
       "      <td>จินตา- ลลิตา สุนทรวิภาค</td>\n",
       "      <td>-</td>\n",
       "      <td>24/9/2563</td>\n",
       "      <td>sB+</td>\n",
       "      <td>S industries</td>\n",
       "      <td>พิจารณาสินเชื่อ</td>\n",
       "    </tr>\n",
       "    <tr>\n",
       "      <th>1149</th>\n",
       "      <td>บริษัท ทรัพย์อุดมรุ่งเรื่อง จำกัด</td>\n",
       "      <td>-</td>\n",
       "      <td>13/7/2563</td>\n",
       "      <td>sC+</td>\n",
       "      <td>S industries</td>\n",
       "      <td>พิจารณาสินเชื่อ</td>\n",
       "    </tr>\n",
       "  </tbody>\n",
       "</table>\n",
       "</div>"
      ],
      "text/plain": [
       "            บุคคล/นิติบุคคลที่ถูกประเมิน Customer Number วันที่ประเมิน Grade  \\\n",
       "51          บริษัท กาญจนดิษฐ์น้ำมันปาล์ม             New    12/11/2563   DDD   \n",
       "66    บริษัท ทีเอส พลาสแพค จำกัด (มหาชน)               -     21/5/2563   BBB   \n",
       "152                        หจก.เอ.อัลมาน               -      3/9/2563    B+   \n",
       "232                      บจก.เอสเอส แวลู               -    15/12/2563    C+   \n",
       "246            บริษัท ธนภูมิทรัพย์ จำกัด   ลูกค้ารายใหม่     16/6/2563   CCC   \n",
       "518            บริษัท ไอเดียดีพลัส จำกัด               -      5/2/2563  sBBB   \n",
       "743                 บจก. เอ็มเอส เคมีเทค               -     20/7/2563  sBBB   \n",
       "937             บริษัท พงษ์ภาคภูมิ จำกัด               -      5/2/2563   sBB   \n",
       "943         บริษัท ฮีโน่ มหาสารคาม จำกัด               -      5/2/2563  sCCC   \n",
       "1124             จินตา- ลลิตา สุนทรวิภาค               -     24/9/2563   sB+   \n",
       "1149   บริษัท ทรัพย์อุดมรุ่งเรื่อง จำกัด               -     13/7/2563   sC+   \n",
       "\n",
       "                    ประเภท     วัตถุประสงค์  \n",
       "51        M & L Industries  พิจารณาสินเชื่อ  \n",
       "66        M & L Industries  พิจารณาสินเชื่อ  \n",
       "152    Property Investment  พิจารณาสินเชื่อ  \n",
       "232   Property Development  พิจารณาสินเชื่อ  \n",
       "246   Property Development  พิจารณาสินเชื่อ  \n",
       "518             S Commerce  พิจารณาสินเชื่อ  \n",
       "743             S Commerce  พิจารณาสินเชื่อ  \n",
       "937             S Commerce  พิจารณาสินเชื่อ  \n",
       "943             S Commerce  พิจารณาสินเชื่อ  \n",
       "1124          S industries  พิจารณาสินเชื่อ  \n",
       "1149          S industries  พิจารณาสินเชื่อ  "
      ]
     },
     "execution_count": 85,
     "metadata": {},
     "output_type": "execute_result"
    }
   ],
   "source": [
    "a[~a['Customer Number'].str.contains(r'[0-9]')]"
   ]
  },
  {
   "cell_type": "code",
   "execution_count": null,
   "metadata": {},
   "outputs": [],
   "source": [
    "#df = a.merge(mapping,on='Customer Number',how='left')"
   ]
  }
 ],
 "metadata": {
  "kernelspec": {
   "display_name": "base",
   "language": "python",
   "name": "python3"
  },
  "language_info": {
   "codemirror_mode": {
    "name": "ipython",
    "version": 3
   },
   "file_extension": ".py",
   "mimetype": "text/x-python",
   "name": "python",
   "nbconvert_exporter": "python",
   "pygments_lexer": "ipython3",
   "version": "3.8.5"
  },
  "orig_nbformat": 4
 },
 "nbformat": 4,
 "nbformat_minor": 2
}
